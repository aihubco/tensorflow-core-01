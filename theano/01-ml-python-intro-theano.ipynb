{
 "metadata": {
  "name": "",
  "signature": "sha256:e51f8e934c18e46246461842add23f04f4c229569bedb35dac170c9831f80130"
 },
 "nbformat": 3,
 "nbformat_minor": 0,
 "worksheets": [
  {
   "cells": [
    {
     "cell_type": "markdown",
     "metadata": {},
     "source": [
      "# Numpy\n",
      "## Matrix conventions for machine learning\n",
      "Rows are horizontal and columns are vertical. Every row is an example. Therefore, inputs[10,5] is a matrix of 10 examples where each example has dimension 5. If this would be the input of a neural network then the weights from the input to the first hidden layer would represent a matrix of size"
     ]
    },
    {
     "cell_type": "code",
     "collapsed": false,
     "input": [
      "import numpy as np\n",
      "print np.asarray([[1., 2], [3, 4], [5, 6]])\n",
      "np.asarray([[1., 2], [3, 4], [5, 6]]).shape"
     ],
     "language": "python",
     "metadata": {},
     "outputs": [
      {
       "output_type": "stream",
       "stream": "stdout",
       "text": [
        "[[ 1.  2.]\n",
        " [ 3.  4.]\n",
        " [ 5.  6.]]\n"
       ]
      },
      {
       "metadata": {},
       "output_type": "pyout",
       "prompt_number": 274,
       "text": [
        "(3, 2)"
       ]
      }
     ],
     "prompt_number": 274
    },
    {
     "cell_type": "markdown",
     "metadata": {},
     "source": [
      "## Broadcasting\n",
      "Numpy does broadcasting of arrays of different shapes during arithmetic operations. What this means in general is that the smaller array (or scalar) is broadcasted across the larger array so that they have compatible shapes. The example below shows an instance of broadcastaing:"
     ]
    },
    {
     "cell_type": "code",
     "collapsed": false,
     "input": [
      "a = np.asarray([1.0, 2.0, 3.0])\n",
      "b = 2.0\n",
      "a * b"
     ],
     "language": "python",
     "metadata": {},
     "outputs": [
      {
       "metadata": {},
       "output_type": "pyout",
       "prompt_number": 275,
       "text": [
        "array([ 2.,  4.,  6.])"
       ]
      }
     ],
     "prompt_number": 275
    },
    {
     "cell_type": "markdown",
     "metadata": {},
     "source": [
      "# Theano"
     ]
    },
    {
     "cell_type": "markdown",
     "metadata": {},
     "source": [
      "Theano was written at the LISA lab to support rapid development of efficient machine learning algorithms.\n",
      "\n",
      "Theano is a Python library that lets you to define, optimize, and evaluate mathematical expressions, especially ones with multi-dimensional arrays (numpy.ndarray). Using Theano it is possible to attain speeds rivaling hand-crafted C implementations for problems involving large amounts of data. It can also surpass C on a CPU by many orders of magnitude by taking advantage of recent GPUs."
     ]
    },
    {
     "cell_type": "markdown",
     "metadata": {},
     "source": [
      "## Linear Algebra\n",
      "### Adding two scalars\n",
      "To get us started with Theano and get a feel of what we\u2019re working with, let\u2019s make a simple function: add two numbers together. Here is how you do it\n",
      "\n",
      "#### Step 1\n",
      "The first step is to define two symbols (Variables) representing the quantities that you want to add. Note that from now on, we will use the term Variable to mean \u201csymbol\u201d (in other words, x, y, z are all Variable objects). The output of the function f is a numpy.ndarray with zero dimensions. \n",
      "By calling T.dscalar with a string argument, you create a Variable representing a floating-point scalar quantity with the given name. If you provide no argument, the symbol will be unnamed. Names are not required, but they can help debugging."
     ]
    },
    {
     "cell_type": "code",
     "collapsed": false,
     "input": [
      "import theano\n",
      "from theano import tensor as T"
     ],
     "language": "python",
     "metadata": {},
     "outputs": [],
     "prompt_number": 276
    },
    {
     "cell_type": "code",
     "collapsed": false,
     "input": [
      "# declare two symbolic floating-point scalars\n",
      "x = T.dscalar('x')\n",
      "y = T.dscalar('y')\n",
      "type(x)"
     ],
     "language": "python",
     "metadata": {},
     "outputs": [
      {
       "metadata": {},
       "output_type": "pyout",
       "prompt_number": 277,
       "text": [
        "theano.tensor.var.TensorVariable"
       ]
      }
     ],
     "prompt_number": 277
    },
    {
     "cell_type": "markdown",
     "metadata": {},
     "source": [
      "#### Step 2\n",
      "The second step is to combine x and y into their sum z. z is yet another Variable which represents the addition of x and y. You can use the pp function to pretty-print out the computation associated to z."
     ]
    },
    {
     "cell_type": "code",
     "collapsed": false,
     "input": [
      "from theano import pp\n",
      "z = x + y\n",
      "print pp(z)"
     ],
     "language": "python",
     "metadata": {},
     "outputs": [
      {
       "output_type": "stream",
       "stream": "stdout",
       "text": [
        "(x + y)\n"
       ]
      }
     ],
     "prompt_number": 278
    },
    {
     "cell_type": "markdown",
     "metadata": {},
     "source": [
      "#### Step 3\n",
      "The last step is to create a function taking x and y as inputs and giving z as output:\n",
      "The first argument to function is a list of Variables that will be provided as inputs to the function. The second argument is a single Variable or a list of Variables. For either case, the second argument is what we want to see as output when we apply the function. f may then be used like a normal Python function.\n",
      "When you run it you may notice that there was a slight delay in executing the function instruction. Behind the scene, f was being compiled into C code."
     ]
    },
    {
     "cell_type": "code",
     "collapsed": false,
     "input": [
      "f = theano.function([x,y], z)\n",
      "print f(2.3,4.1)"
     ],
     "language": "python",
     "metadata": {},
     "outputs": [
      {
       "output_type": "stream",
       "stream": "stdout",
       "text": [
        "6.4\n"
       ]
      }
     ],
     "prompt_number": 279
    },
    {
     "cell_type": "markdown",
     "metadata": {},
     "source": [
      "As a shortcut, you can skip step 3, and just use a variable\u2019s eval() method. The eval() method is not as flexible as function() but it can do everything we\u2019ve covered in the tutorial so far. It has the added benefit of not requiring you to import"
     ]
    },
    {
     "cell_type": "code",
     "collapsed": false,
     "input": [
      "z.eval({x : 2.3, y : 4.1})"
     ],
     "language": "python",
     "metadata": {},
     "outputs": [
      {
       "metadata": {},
       "output_type": "pyout",
       "prompt_number": 280,
       "text": [
        "array(6.3999999999999995)"
       ]
      }
     ],
     "prompt_number": 280
    },
    {
     "cell_type": "markdown",
     "metadata": {},
     "source": [
      "### Operatations with Matrices\n",
      "Replace dscalar with matrix in symbol definition"
     ]
    },
    {
     "cell_type": "code",
     "collapsed": false,
     "input": [
      "x = T.dmatrix('x')\n",
      "y = T.dmatrix('y')\n",
      "z = x + y\n",
      "f = theano.function([x, y], z)\n",
      "f(np.array([[1, 2], [3, 4]]), np.array([[10, 20], [30, 40]]))"
     ],
     "language": "python",
     "metadata": {},
     "outputs": [
      {
       "metadata": {},
       "output_type": "pyout",
       "prompt_number": 282,
       "text": [
        "array([[ 11.,  22.],\n",
        "       [ 33.,  44.]])"
       ]
      }
     ],
     "prompt_number": 282
    },
    {
     "cell_type": "code",
     "collapsed": false,
     "input": [
      "tran = T.transpose(x)\n",
      "tran.eval({x:np.array([[1,2],[3,4],[5,6]])})"
     ],
     "language": "python",
     "metadata": {},
     "outputs": [
      {
       "metadata": {},
       "output_type": "pyout",
       "prompt_number": 283,
       "text": [
        "array([[ 1.,  3.,  5.],\n",
        "       [ 2.,  4.,  6.]])"
       ]
      }
     ],
     "prompt_number": 283
    },
    {
     "cell_type": "markdown",
     "metadata": {},
     "source": [
      "It is possible to add scalars to matrices, vectors to matrices, scalars to vectors, etc. The behavior of these operations is defined by broadcasting.\n",
      "\n",
      "The following types are available:\n",
      "+ byte: bscalar, bvector, bmatrix, brow, bcol, btensor3, btensor4\n",
      "+ 16-bit integers: wscalar, wvector, wmatrix, wrow, wcol, wtensor3, wtensor4\n",
      "+ 32-bit integers: iscalar, ivector, imatrix, irow, icol, itensor3, itensor4\n",
      "+ 64-bit integers: lscalar, lvector, lmatrix, lrow, lcol, ltensor3, ltensor4\n",
      "+ float: fscalar, fvector, fmatrix, frow, fcol, ftensor3, ftensor4\n",
      "+ double: dscalar, dvector, dmatrix, drow, dcol, dtensor3, dtensor4\n",
      "+ complex: cscalar, cvector, cmatrix, crow, ccol, ctensor3, ctensor4"
     ]
    },
    {
     "cell_type": "markdown",
     "metadata": {},
     "source": [
      "## Tensors: theano.tensor\n",
      "Theano also has variable types for vectors, matrices, and tensors. The theano.tensor submodule has various functions for performing operations on these variables."
     ]
    },
    {
     "cell_type": "code",
     "collapsed": false,
     "input": [
      "A = T.matrix('A')\n",
      "x = T.vector('x')\n",
      "b = T.vector('b')\n",
      "y = T.dot(A, x) + b\n",
      "\n",
      "# Note that squaring a matrix is element-wise\n",
      "z = T.sum(A**2)\n",
      "\n",
      "# theano.function can compute multiple things at a time\n",
      "# You can also set default parameter values\n",
      "# We'll cover theano.config.floatX later\n",
      "\n",
      "b_default = np.array([0, 0], dtype=theano.config.floatX)\n",
      "\n",
      "linear_mix = theano.function([A, x, theano.Param(b, default=b_default)], [y, z])\n",
      "\n",
      "# Supplying values for A, x, and b\n",
      "print linear_mix(np.array([[1, 2, 3], [4, 5, 6]], dtype=theano.config.floatX), #A\n",
      "                 np.array([1, 2, 3], dtype=theano.config.floatX), #x\n",
      "                 np.array([4, 5], dtype=theano.config.floatX)) #b\n",
      "# Using the default value for b\n",
      "print linear_mix(np.array([[1, 2, 3], [4, 5, 6]]), #A\n",
      "                 np.array([1, 2, 3])) #x"
     ],
     "language": "python",
     "metadata": {},
     "outputs": [
      {
       "output_type": "stream",
       "stream": "stdout",
       "text": [
        "[array([ 18.,  37.]), array(91.0)]\n",
        "[array([ 14.,  32.]), array(91.0)]\n"
       ]
      }
     ],
     "prompt_number": 284
    },
    {
     "cell_type": "markdown",
     "metadata": {},
     "source": [
      "## Theano Graph visualization"
     ]
    },
    {
     "cell_type": "code",
     "collapsed": false,
     "input": [
      "import pydot\n",
      "from IPython.display import Image\n",
      "theano.printing.pydotprint(f, outfile=\"xy_example.png\", var_with_name_simple=True)\n",
      "Image(filename='xy_example.png') "
     ],
     "language": "python",
     "metadata": {},
     "outputs": [
      {
       "output_type": "stream",
       "stream": "stdout",
       "text": [
        "The output file is available at xy_example.png\n"
       ]
      },
      {
       "metadata": {},
       "output_type": "pyout",
       "png": "[encoded data removed]",
       "prompt_number": 285,
       "text": [
        "<IPython.core.display.Image at 0x7fdb98928690>"
       ]
      }
     ],
     "prompt_number": 285
    },
    {
     "cell_type": "markdown",
     "metadata": {},
     "source": [
      "# Logistic Function\n",
      "Let\u2019s say that you want to compute the logistic curve, which is given by:\n",
      "<img src=\"materials/imgs/logistic.png\">\n",
      "<img src=\"materials/imgs/logistic-formula.png\">"
     ]
    },
    {
     "cell_type": "code",
     "collapsed": false,
     "input": [
      "x = T.dmatrix('x')\n",
      "s = 1 / (1 + T.exp(-x))\n",
      "logistic = theano.function([x], s)\n",
      "print logistic([[0, 1], [-1, -2]])\n",
      "\n",
      "s2 = (1 + T.tanh(x / 2)) / 2\n",
      "logistic2 = theano.function([x], s2)\n",
      "print logistic2([[0, 1], [-1, -2]])"
     ],
     "language": "python",
     "metadata": {},
     "outputs": [
      {
       "output_type": "stream",
       "stream": "stdout",
       "text": [
        "[[ 0.5         0.73105858]\n",
        " [ 0.26894142  0.11920292]]\n",
        "[[ 0.5         0.73105858]\n",
        " [ 0.26894142  0.11920292]]\n"
       ]
      }
     ],
     "prompt_number": 286
    },
    {
     "cell_type": "markdown",
     "metadata": {},
     "source": [
      "### Computing More than one Thing at the Same Time\n",
      "Theano supports functions with multiple outputs. For example, we can compute the elementwise difference, absolute difference, and squared difference between two matrices a and b at the same time:"
     ]
    },
    {
     "cell_type": "code",
     "collapsed": false,
     "input": [
      "a, b = T.dmatrices('a', 'b')\n",
      "diff = a - b\n",
      "abs_diff = abs(diff)\n",
      "diff_squared = diff**2\n",
      "f = theano.function([a, b], [diff, abs_diff, diff_squared])\n",
      "f([[1, 1], [1, 1]], [[0, 1], [2, 3]])"
     ],
     "language": "python",
     "metadata": {},
     "outputs": [
      {
       "metadata": {},
       "output_type": "pyout",
       "prompt_number": 287,
       "text": [
        "[array([[ 1.,  0.],\n",
        "        [-1., -2.]]), array([[ 1.,  0.],\n",
        "        [ 1.,  2.]]), array([[ 1.,  0.],\n",
        "        [ 1.,  4.]])]"
       ]
      }
     ],
     "prompt_number": 287
    },
    {
     "cell_type": "code",
     "collapsed": false,
     "input": [
      "### Setting a Default Value for an Argument\n",
      "from theano import Param\n",
      "x, y = T.dscalars('x', 'y')\n",
      "z = x + y\n",
      "f = theano.function([x, Param(y, default=1)], z)\n",
      "print f(33)\n",
      "print f(33, 2)"
     ],
     "language": "python",
     "metadata": {},
     "outputs": [
      {
       "output_type": "stream",
       "stream": "stdout",
       "text": [
        "34.0\n",
        "35.0\n"
       ]
      }
     ],
     "prompt_number": 288
    },
    {
     "cell_type": "markdown",
     "metadata": {},
     "source": [
      "This makes use of the Param class which allows you to specify properties of your function\u2019s parameters with greater detail. Here we give a default value of 1 for y by creating a Param instance with its default field set to 1.\n",
      "Inputs with default values must follow inputs without default values (like Python\u2019s functions). There can be multiple inputs with default values. These parameters can be set positionally or by name, as in standard Python:"
     ]
    },
    {
     "cell_type": "code",
     "collapsed": false,
     "input": [
      "x, y, w = T.dscalars('x', 'y', 'w')\n",
      "z = (x + y) * w\n",
      "f = theano.function([x, Param(y, default=1), Param(w, default=2, name='w_by_name')], z)\n",
      "print f(33)\n",
      "print f(33, 2)\n",
      "print f(33, 0, 1)\n",
      "print f(33, w_by_name=1)\n",
      "print f(33, w_by_name=1, y=0)"
     ],
     "language": "python",
     "metadata": {},
     "outputs": [
      {
       "output_type": "stream",
       "stream": "stdout",
       "text": [
        "68.0\n",
        "70.0\n",
        "33.0\n",
        "34.0\n",
        "33.0\n"
       ]
      }
     ],
     "prompt_number": 289
    },
    {
     "cell_type": "markdown",
     "metadata": {},
     "source": [
      "### Important: Using Shared Variables\n",
      "It is also possible to make a function with an internal state. For example, let\u2019s say we want to make an accumulator: at the beginning, the state is initialized to zero. Then, on each function call, the state is incremented by the function\u2019s argument.\n",
      "\n",
      "First let\u2019s define the accumulator function. It adds its argument to the internal state, and returns the old state value.\n",
      "You can define more than one function to use the same shared variable. These functions can all update the value."
     ]
    },
    {
     "cell_type": "code",
     "collapsed": false,
     "input": [
      "from theano import shared\n",
      "state = shared(0)\n",
      "inc = T.iscalar('inc')\n",
      "accumulator = theano.function([inc], state, updates=[(state, state+inc)])\n",
      "decrementor = theano.function([inc], state, updates=[(state, state-inc)])"
     ],
     "language": "python",
     "metadata": {},
     "outputs": [],
     "prompt_number": 290
    },
    {
     "cell_type": "code",
     "collapsed": false,
     "input": [
      "print state.get_value(),\n",
      "print accumulator(1),\n",
      "print state.get_value(),\n",
      "print accumulator(300),\n",
      "print state.get_value(),\n",
      "#It is possible to reset the state. Just use the .set_value() method:\n",
      "print state.set_value(-1),\n",
      "print accumulator(3),\n",
      "print state.get_value(),\n",
      "print decrementor(1),\n",
      "print state.get_value(),"
     ],
     "language": "python",
     "metadata": {},
     "outputs": [
      {
       "output_type": "stream",
       "stream": "stdout",
       "text": [
        "0 0 1 1 301 None -1 2 2 1\n"
       ]
      }
     ],
     "prompt_number": 291
    },
    {
     "cell_type": "markdown",
     "metadata": {},
     "source": [
      "The updates mechanism can be a syntactic convenience, but it is mainly there for efficiency. Updates to shared variables can sometimes be done more quickly using in-place algorithms (e.g. low-rank matrix updates). Also, Theano has more control over where and how shared variables are allocated, which is one of the important elements of getting good performance on the GPU.\n",
      "\n",
      "It may happen that you expressed some formula using a shared variable, but you do not want to use its value. In this case, you can use the givens parameter of function which replaces a particular node in a graph for the purpose of one particular function."
     ]
    },
    {
     "cell_type": "code",
     "collapsed": false,
     "input": [
      "fn_of_state = state * 2 + inc\n",
      "# The type of foo must match the shared variable we are replacing\n",
      "# with the ``givens``\n",
      "foo = T.scalar(dtype=state.dtype)\n",
      "skip_shared = theano.function([inc, foo], fn_of_state, givens=[(state, foo)])\n",
      "print skip_shared(1, 3),  # we're using 3 for the state, not state.value\n",
      "print state.get_value()  # old state still there, but we didn't use it"
     ],
     "language": "python",
     "metadata": {},
     "outputs": [
      {
       "output_type": "stream",
       "stream": "stdout",
       "text": [
        "7 1\n"
       ]
      }
     ],
     "prompt_number": 292
    },
    {
     "cell_type": "markdown",
     "metadata": {},
     "source": [
      "# Linear Regression: toy example\n",
      "* Works well for convex functions. Not so well for non-convex.\n",
      "* M - number of learning examples, N - number of features\n",
      "\n",
      "### 2 approaches for Linear Regression:\n",
      "+ Normal Equation: + No need to choose learning rate. + No need to iterate. - Need to compute (Xtr * X) ^-1: O(n^3) => slow if n is large\n",
      "+ Gradient Descent: - Need to choose learning rate, - need many iterations. + Works well when N is large. 10^6."
     ]
    },
    {
     "cell_type": "markdown",
     "metadata": {},
     "source": [
      "### Step 1: Get data\n",
      "Toy example with random variables."
     ]
    },
    {
     "cell_type": "code",
     "collapsed": false,
     "input": [
      "%matplotlib inline  \n",
      "import matplotlib.pyplot as plt\n",
      "import numpy as np\n",
      "import theano\n",
      "import theano.tensor as T\n",
      "rng = np.random\n",
      "\n",
      "M = 1000\n",
      "N = 5\n",
      "Xtr = rng.randn(M, N)\n",
      "\n",
      "target_w, target_b = rng.randn(N), rng.randn()\n",
      "Ytr = np.dot(Xtr, target_w.T) + rng.randn(M)*0.1 +target_b"
     ],
     "language": "python",
     "metadata": {},
     "outputs": [],
     "prompt_number": 293
    },
    {
     "cell_type": "markdown",
     "metadata": {},
     "source": [
      "### Step 2: EDA\n",
      "+ Get sence of the data: mean, std, cor, cov, corrcoef, plotting\n",
      "+ Cleanup if required\n",
      "+ Define model hypothesis"
     ]
    },
    {
     "cell_type": "code",
     "collapsed": false,
     "input": [
      "def eda_text(dataset_x, dataset_y):\n",
      "    print 'Data shapes: ', dataset_x.shape, dataset_y.shape\n",
      "    print 'x mean: {},x std: {}, y mean: {}, y std: {}'.format(dataset_x.mean(), dataset_x.std(), dataset_y.mean(), dataset_y.std())\n",
      "\n",
      "    for i in range(0,len(dataset_x[0])):\n",
      "        xdim = [_[i] for _ in dataset_x]\n",
      "        print 'cov: {}, corr: {}, corrcoef: {}'.format( np.cov(xdim, dataset_y), \n",
      "                                                       np.correlate(xdim, dataset_y),\n",
      "                                                       np.corrcoef(xdim, dataset_y)) \n",
      "eda_text(Xtr,Ytr)"
     ],
     "language": "python",
     "metadata": {},
     "outputs": [
      {
       "output_type": "stream",
       "stream": "stdout",
       "text": [
        "Data shapes:  (1000, 5) (1000,)\n",
        "x mean: 0.0168869824409,x std: 1.00398612187, y mean: 0.741894041287, y std: 1.20720487753\n",
        "cov: [[ 1.02554947 -0.128035  ]\n",
        " [-0.128035    1.45880242]], corr: [-90.03625922], corrcoef: [[ 1.         -0.10467721]\n",
        " [-0.10467721  1.        ]]\n",
        "cov: [[ 0.9936452  -0.80766039]\n",
        " [-0.80766039  1.45880242]], corr: [-778.07328646], corrcoef: [[ 1.         -0.67083371]\n",
        " [-0.67083371  1.        ]]\n",
        "cov: [[ 1.03541183  0.85047291]\n",
        " [ 0.85047291  1.45880242]], corr: [ 862.84513382], corrcoef: [[ 1.          0.69199935]\n",
        " [ 0.69199935  1.        ]]\n",
        "cov: [[ 1.01280585 -0.25591367]\n",
        " [-0.25591367  1.45880242]], corr: [-275.5513621], corrcoef: [[ 1.        -0.2105388]\n",
        " [-0.2105388  1.       ]]\n",
        "cov: [[ 0.97383536 -0.07739238]\n",
        " [-0.07739238  1.45880242]], corr: [-74.65247344], corrcoef: [[ 1.         -0.06493177]\n",
        " [-0.06493177  1.        ]]\n"
       ]
      }
     ],
     "prompt_number": 294
    },
    {
     "cell_type": "code",
     "collapsed": false,
     "input": [
      "def eda_chart(dataset_x,dataset_y):\n",
      "    plt.figure(1)\n",
      "    f, axs = plt.subplots(len(dataset_x[0]),2)\n",
      "    for i in range(0,len(dataset_x[0])):\n",
      "        xdim = [_[i] for _ in dataset_x]\n",
      "        if len(dataset_x[0])==1:\n",
      "            axs[0].scatter(xdim,dataset_y)\n",
      "            axs[1].hist(xdim, 50, normed=1, facecolor='g', alpha=0.75)\n",
      "        else:\n",
      "            axs[i,0].scatter(xdim,dataset_y)\n",
      "            axs[i,1].hist(xdim, 50, normed=1, facecolor='g', alpha=0.75)\n",
      "    f.subplots_adjust(hspace=1)\n",
      "    plt.show()\n",
      "    \n",
      "eda_chart(Xtr,Ytr)"
     ],
     "language": "python",
     "metadata": {},
     "outputs": [
      {
       "metadata": {},
       "output_type": "display_data",
       "text": [
        "<matplotlib.figure.Figure at 0x7fdb99578dd0>"
       ]
      },
      {
       "metadata": {},
       "output_type": "display_data",
       "png": "[encoded data removed]",
       "text": [
        "<matplotlib.figure.Figure at 0x7fdb991acc10>"
       ]
      }
     ],
     "prompt_number": 295
    },
    {
     "cell_type": "markdown",
     "metadata": {},
     "source": [
      "### Step 3: Define and fit model"
     ]
    },
    {
     "cell_type": "markdown",
     "metadata": {},
     "source": [
      "Define: Hx, Cost function, Gradient function"
     ]
    },
    {
     "cell_type": "code",
     "collapsed": false,
     "input": [
      "def define_fit_model(dataset_x, dataset_y, learning_rate = 0.1, lyam = 1000, training_steps = 10000):\n",
      "    N = len(dataset_x[0])\n",
      "    x = T.matrix(\"x\")\n",
      "    y = T.vector(\"y\")\n",
      "    w = theano.shared(rng.randn(N), name=\"w\")\n",
      "    b = theano.shared(0., name=\"b\")\n",
      "    Hx = T.dot(x,w) + b\n",
      "    cost = T.mean(T.sqr(Hx - y))\n",
      "    gw, gb = T.grad(cost=cost, wrt=[w, b])\n",
      "    train = theano.function(inputs=[x,y],outputs=[Hx,cost], updates=((w, w - learning_rate * gw), (b, b - learning_rate * gb)))\n",
      "    predict = theano.function(inputs=[x], outputs=Hx)\n",
      "    for i in range(training_steps):\n",
      "        pred, err = train(dataset_x, dataset_y)\n",
      "    return predict, w, b\n",
      "\n",
      "predict, w, b = define_fit_model(Xtr,Ytr)"
     ],
     "language": "python",
     "metadata": {},
     "outputs": [],
     "prompt_number": 296
    },
    {
     "cell_type": "code",
     "collapsed": false,
     "input": [
      "print 'Model we used for data generation - with caveat of random component which caused ~0.05% deviation'\n",
      "print ' {}, {}'.format(target_w, target_b)\n",
      "print \"Model that was fit from data:\\n {}, {}\".format( w.get_value(), b.get_value() )"
     ],
     "language": "python",
     "metadata": {},
     "outputs": [
      {
       "output_type": "stream",
       "stream": "stdout",
       "text": [
        "Model we used for data generation - with caveat of random component which caused ~0.05% deviation\n",
        " [-0.1588062  -0.80006659  0.83073865 -0.26627219 -0.08233234], 0.759210015517\n",
        "Model that was fit from data:\n",
        " [-0.16021024 -0.80292016  0.82767899 -0.26958643 -0.08585711], 0.759546522056\n"
       ]
      }
     ],
     "prompt_number": 297
    },
    {
     "cell_type": "markdown",
     "metadata": {},
     "source": [
      "### Step 4: Visualize, Summarize, Apply"
     ]
    },
    {
     "cell_type": "code",
     "collapsed": false,
     "input": [
      "def model_summary(dataset_x, dataset_y, fpredict):\n",
      "    N = len(dataset_x[0])\n",
      "    plt.figure(1)\n",
      "    f, axs = plt.subplots(N,2)\n",
      "    for i in range(0,N):\n",
      "        xdim = [_[i] for _ in dataset_x]\n",
      "        npxdim = np.array([_[i] for _ in dataset_x])\n",
      "        if len(dataset_x[0])==1:\n",
      "            axs[0].scatter(xdim,dataset_y)\n",
      "            axs[0].scatter(xdim,predict(dataset_x), color='g', alpha=0.25)\n",
      "            axs[0].plot([[npxdim.min()]*N ,[npxdim.max()]*N], fpredict([[npxdim.min()]*N ,[npxdim.max()]*N]), color='r')\n",
      "            axs[1].hist(xdim, 50, normed=1, facecolor='g', alpha=0.75)\n",
      "        else:\n",
      "            axs[i,0].scatter(xdim,dataset_y)\n",
      "            axs[i,0].scatter(xdim,predict(dataset_x), color='g', alpha=0.25)\n",
      "            axs[i,0].plot([[npxdim.min()]*N ,[npxdim.max()]*N], fpredict([[npxdim.min()]*N ,[npxdim.max()]*N]), color='r')\n",
      "            axs[i,1].hist(xdim, 50, normed=1, facecolor='g', alpha=0.75)\n",
      "    f.subplots_adjust(hspace=1)\n",
      "    plt.show()\n",
      "    \n",
      "model_summary(Xtr, Ytr, predict)"
     ],
     "language": "python",
     "metadata": {},
     "outputs": [
      {
       "metadata": {},
       "output_type": "display_data",
       "text": [
        "<matplotlib.figure.Figure at 0x7fdb99305990>"
       ]
      },
      {
       "metadata": {},
       "output_type": "display_data",
       "png": "[encoded data removed]",
       "text": [
        "<matplotlib.figure.Figure at 0x7fdb9b6e3190>"
       ]
      }
     ],
     "prompt_number": 298
    },
    {
     "cell_type": "markdown",
     "metadata": {},
     "source": [
      "#Linear Regression: real example - Fire and Theft in Chicago\n",
      "Source: http://college.cengage.com/mathematics/brase/understandable_statistics/7e/students/datasets/slr/frames/frame.html\n",
      "### Step 1: Get data"
     ]
    },
    {
     "cell_type": "code",
     "collapsed": false,
     "input": [
      "dataset = np.loadtxt(open(\"data/slr/college.cengage.com.slr05.csv\",\"rb\"),delimiter=\",\",skiprows=1)\n",
      "\n",
      "def normalize(dataset):\n",
      "    std_ = np.std(dataset)\n",
      "    dataset = dataset / std_\n",
      "    mean_ = np.mean(dataset)\n",
      "    dataset = dataset - mean_\n",
      "    return dataset, std_, mean_\n",
      "\n",
      "dataset, STD_, MEAN_ = normalize(dataset)\n",
      "    \n",
      "def extract_xy(dataset):\n",
      "    return np.array([[_[0]] for _ in dataset]), np.array([_[1] for _ in dataset])\n",
      "\n",
      "Xtr, Ytr = extract_xy(dataset)"
     ],
     "language": "python",
     "metadata": {},
     "outputs": [],
     "prompt_number": 299
    },
    {
     "cell_type": "markdown",
     "metadata": {},
     "source": [
      "### Step 2: EDA\n",
      "+ Get sence of the data: mean, std, cor, cov, corrcoef, plotting\n",
      "+ Cleanup if required\n",
      "+ Define model hypothesis"
     ]
    },
    {
     "cell_type": "code",
     "collapsed": false,
     "input": [
      "eda_text(Xtr, Ytr)\n",
      "eda_chart(Xtr, Ytr)"
     ],
     "language": "python",
     "metadata": {},
     "outputs": [
      {
       "output_type": "stream",
       "stream": "stdout",
       "text": [
        "Data shapes:  (42, 1) (42,)\n",
        "x mean: -0.514964559729,x std: 0.469050605819, y mean: 0.514964559729, y std: 1.11786158965\n",
        "cov: [[ 0.22537453  0.29601953]\n",
        " [ 0.29601953  1.28009294]], corr: [ 0.99888387], corrcoef: [[ 1.         0.5511213]\n",
        " [ 0.5511213  1.       ]]\n"
       ]
      },
      {
       "metadata": {},
       "output_type": "display_data",
       "text": [
        "<matplotlib.figure.Figure at 0x7fdb99175a50>"
       ]
      },
      {
       "metadata": {},
       "output_type": "display_data",
       "png": "[encoded data removed]",
       "text": [
        "<matplotlib.figure.Figure at 0x7fdb99175c90>"
       ]
      }
     ],
     "prompt_number": 300
    },
    {
     "cell_type": "markdown",
     "metadata": {},
     "source": [
      "In previous chart it seems like X is not normally distributed. In practice we can play with features to see if something fits better gaussian distribution, e.g. log distribution.\n",
      "\n",
      "Also we will remove outliers:"
     ]
    },
    {
     "cell_type": "code",
     "collapsed": false,
     "input": [
      "def reject_outliers(dataset, m=3, dim=1):\n",
      "    xd = [_[dim] for _ in dataset]    \n",
      "    return [x for x in dataset if abs(x[dim] - np.mean(xd)) < m * np.std(xd)]\n",
      "\n",
      "Xtr, Ytr = extract_xy(reject_outliers(dataset))\n",
      "eda_text(Xtr, Ytr)\n",
      "eda_chart(Xtr, Ytr)"
     ],
     "language": "python",
     "metadata": {},
     "outputs": [
      {
       "output_type": "stream",
       "stream": "stdout",
       "text": [
        "Data shapes:  (41, 1) (41,)\n",
        "x mean: -0.547310874064,x std: 0.425946711384, y mean: 0.379225816686, y std: 0.711507322266\n",
        "cov: [[ 0.18596637  0.11440262]\n",
        " [ 0.11440262  0.51889874]], corr: [-3.9336261], corrcoef: [[ 1.          0.36827943]\n",
        " [ 0.36827943  1.        ]]\n"
       ]
      },
      {
       "metadata": {},
       "output_type": "display_data",
       "text": [
        "<matplotlib.figure.Figure at 0x7fdb9ec183d0>"
       ]
      },
      {
       "metadata": {},
       "output_type": "display_data",
       "png": "[encoded data removed]",
       "text": [
        "<matplotlib.figure.Figure at 0x7fdb982b59d0>"
       ]
      }
     ],
     "prompt_number": 301
    },
    {
     "cell_type": "markdown",
     "metadata": {},
     "source": [
      "Still, seems data has non linear structure: it growth from 0.5 to 2.5, then it declines til 3.5, then growth again. Typically model requires correction by adding multiple nonlinear features X^2, x^3 and letting algorithm find best weights.\n",
      "This will require regularization parameter to avoid extreme growth of weights, which will increase a bit complexity of the model"
     ]
    },
    {
     "cell_type": "markdown",
     "metadata": {},
     "source": [
      "### Step 3: Define and fit model\n",
      "\n",
      "For simplicity I reuse model definition from toy example"
     ]
    },
    {
     "cell_type": "code",
     "collapsed": false,
     "input": [
      "def define_fit_model2(dataset_x, dataset_y, learning_rate = 0.01, lyam = 0.01, training_steps = 10000):\n",
      "    N = len(dataset_x[0])\n",
      "    x = T.matrix(\"x\")\n",
      "    y = T.vector(\"y\")\n",
      "    w = theano.shared(rng.randn(N), name=\"w\")\n",
      "    b = theano.shared(0., name=\"b\")\n",
      "    Hx = T.dot(x,w) + b\n",
      "    cost = T.mean(T.sqr(Hx - y)) + lyam * T.sum(T.sqr(w))\n",
      "    gw, gb = T.grad(cost=cost, wrt=[w, b])\n",
      "    train = theano.function(inputs=[x,y],outputs=[Hx,cost], updates=((w, w - learning_rate * gw), (b, b - learning_rate * gb)))\n",
      "    predict = theano.function(inputs=[x], outputs=Hx)\n",
      "    for i in range(training_steps):\n",
      "        pred, err = train(dataset_x, dataset_y)\n",
      "    return predict, w, b\n",
      "\n",
      "def generate_features(x):\n",
      "    return np.array([x, x**2,x**3])\n",
      "\n",
      "Xtr_multi = np.array([generate_features(x[0]) for x in Xtr ])\n",
      "fpredict_fire, w, b = define_fit_model2(Xtr_multi,Ytr)\n",
      "print \"Fitted model parameters:\\n {}, {}\".format( w.get_value(), b.get_value() )\n"
     ],
     "language": "python",
     "metadata": {},
     "outputs": [
      {
       "output_type": "stream",
       "stream": "stdout",
       "text": [
        "Fitted model parameters:\n",
        " [-0.25470487  0.53239187  1.59839753], 0.580818616219\n"
       ]
      }
     ],
     "prompt_number": 302
    },
    {
     "cell_type": "markdown",
     "metadata": {},
     "source": [
      "### Step 4a: Visualize, Summarize"
     ]
    },
    {
     "cell_type": "code",
     "collapsed": false,
     "input": [
      "xdim = [_[0] for _ in Xtr]\n",
      "npxdim = np.array([_[0] for _ in Xtr])\n",
      "N = len(Xtr_multi[0])             \n",
      "f, axs = plt.subplots(1,2)\n",
      "\n",
      "lds = [[npxdim.min()] * N ,[npxdim.max()] * N]\n",
      "\n",
      "axs[0].scatter(xdim,Ytr)\n",
      "axs[0].scatter(xdim,fpredict_fire(Xtr_multi), color='r', alpha=0.25)\n",
      "axs[0].plot(lds, fpredict_fire(lds), color='g')\n",
      "axs[1].hist(xdim, 50, normed=1, facecolor='g', alpha=0.75)\n",
      "f.subplots_adjust(hspace=1)\n",
      "plt.show()   \n",
      "# model_summary(Xtr, Ytr, fpredict_fire)"
     ],
     "language": "python",
     "metadata": {},
     "outputs": [
      {
       "metadata": {},
       "output_type": "display_data",
       "png": "[encoded data removed]",
       "text": [
        "<matplotlib.figure.Figure at 0x7fdb99483950>"
       ]
      }
     ],
     "prompt_number": 303
    },
    {
     "cell_type": "markdown",
     "metadata": {},
     "source": [
      "### Step 4a: Predicting thefts in Chicago"
     ]
    },
    {
     "cell_type": "code",
     "collapsed": false,
     "input": [
      "def predict_thefts(fires):\n",
      "    thefts =  np.round(fpredict_fire([generate_features( fires / STD_ - MEAN_ )])[0])\n",
      "    print 'Model predicts {} thefts for {} fires in a district'.format(thefts,fires)\n",
      "    return thefts\n",
      "\n",
      "predict_thefts(10)\n",
      "predict_thefts(50)\n",
      "predict_thefts(150)\n",
      "predict_thefts(300)"
     ],
     "language": "python",
     "metadata": {},
     "outputs": [
      {
       "output_type": "stream",
       "stream": "stdout",
       "text": [
        "Model predicts 1.0 thefts for 10 fires in a district\n",
        "Model predicts 5.0 thefts for 50 fires in a district\n",
        "Model predicts 406.0 thefts for 150 fires in a district\n",
        "Model predicts 4110.0 thefts for 300 fires in a district\n"
       ]
      },
      {
       "metadata": {},
       "output_type": "pyout",
       "prompt_number": 304,
       "text": [
        "4110.0"
       ]
      }
     ],
     "prompt_number": 304
    },
    {
     "cell_type": "markdown",
     "metadata": {},
     "source": [
      "#Homework: Logistic Regression\n",
      "Task - take realworld data and execute data science steps (data aquisistion, EDA, fitting, visualization, application)"
     ]
    },
    {
     "cell_type": "code",
     "collapsed": false,
     "input": [
      "import numpy\n",
      "import theano\n",
      "import theano.tensor as T\n",
      "rng = numpy.random\n",
      "\n",
      "N = 400\n",
      "features = 784\n",
      "D = (rng.randn(N, features), rng.randint(size=N, low=0, high=2))\n",
      "training_steps = 10000\n",
      "\n",
      "# Declare Theano symbolic variables\n",
      "x = T.matrix(\"x\")\n",
      "y = T.vector(\"y\")\n",
      "w = theano.shared(rng.randn(features), name=\"w\")\n",
      "b = theano.shared(0., name=\"b\")\n",
      "\n",
      "# Construct Theano expression graph\n",
      "p_1 = 1 / (1 + T.exp(-T.dot(x, w) - b))   # Probability that target = 1\n",
      "prediction = p_1 > 0.5                    # The prediction thresholded\n",
      "xent = -y * T.log(p_1) - (1-y) * T.log(1-p_1) # Cross-entropy loss function\n",
      "cost = xent.mean() + 0.01 * (w ** 2).sum()# The cost to minimize\n",
      "gw, gb = T.grad(cost, [w, b])             # Compute the gradient of the cost\n",
      "                                          # (we shall return to this in a\n",
      "                                          # following section of this tutorial)\n",
      "\n",
      "# Compile\n",
      "train = theano.function(inputs=[x,y],outputs=[prediction, xent], updates=((w, w - 0.1 * gw), (b, b - 0.1 * gb)))\n",
      "predict = theano.function(inputs=[x], outputs=prediction)\n",
      "\n",
      "# Train\n",
      "for i in range(training_steps):\n",
      "    pred, err = train(D[0], D[1])\n",
      "\n",
      "# TODO: Homework\n",
      "# print \"Final model:\"\n",
      "# print w.get_value(), b.get_value()\n",
      "# print \"target values for D:\", D[1]\n",
      "# print \"prediction on D:\", predict(D[0])"
     ],
     "language": "python",
     "metadata": {},
     "outputs": []
    }
   ],
   "metadata": {}
  }
 ]
}